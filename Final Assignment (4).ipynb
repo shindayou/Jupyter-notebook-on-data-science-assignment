{
  "metadata": {
    "kernelspec": {
      "name": "python",
      "display_name": "Python (Pyodide)",
      "language": "python"
    },
    "language_info": {
      "codemirror_mode": {
        "name": "python",
        "version": 3
      },
      "file_extension": ".py",
      "mimetype": "text/x-python",
      "name": "python",
      "nbconvert_exporter": "python",
      "pygments_lexer": "ipython3",
      "version": "3.8"
    }
  },
  "nbformat_minor": 5,
  "nbformat": 4,
  "cells": [
    {
      "id": "efcce174-54c9-465b-a346-8e7c23fed7ab",
      "cell_type": "markdown",
      "source": "# Data Science Tools and Ecosystems",
      "metadata": {}
    },
    {
      "id": "6c0ab6c0-7ed0-4242-9d85-96bd98991610",
      "cell_type": "markdown",
      "source": "## In this notebook, Data Science Tools and Ecosystems are summarized.",
      "metadata": {}
    },
    {
      "id": "c1ca1890-bfe3-4497-b4f8-2d29a6804053",
      "cell_type": "markdown",
      "source": "### Objectives\n* __Data Science Languages__\n* __Data Science Libraries__\n* __Data Science Tools__\n* __Data Science expressions__",
      "metadata": {}
    },
    {
      "id": "fd4f7e87-2cbd-4095-91d2-1a540e988389",
      "cell_type": "markdown",
      "source": "### Some of the popular languages that Data Scientists use are:\n#### 1. Python\n#### 2. R\n#### 3. SQL\n#### 4. Java\n#### 5. C++\n#### 6. Julia\n#### 7. JavaScript",
      "metadata": {}
    },
    {
      "id": "f0ab9be3-de4d-4c8a-a996-e8d4d50b9b3e",
      "cell_type": "markdown",
      "source": "### Some of the commonly used libraries used by data scientists include:\n#### 1. NumPy\n#### 2. Matplotlib\n#### 3. Pandas\n#### 4. TensorFlow\n#### 5. SciPy\n#### 6. Plotly",
      "metadata": {}
    },
    {
      "id": "6bc1130a-4934-4d76-bdc3-5e1667da9e5d",
      "cell_type": "markdown",
      "source": "### Data Science Tools\n\n|Data Science Tools|\n|------------------|\n|Apache Hadoop|\n|Scikit Learn|\n|TensorFlow|\n|Pandas|\n|KNIME|",
      "metadata": {}
    },
    {
      "id": "869c8403-0bd2-488d-a990-9ea2be9e17fb",
      "cell_type": "markdown",
      "source": "### Below are a few examples of evaluating arithmetic expressions in Python",
      "metadata": {}
    },
    {
      "id": "7527458e-24ae-4d35-97bb-5ea584227e50",
      "cell_type": "code",
      "source": "#This is a simple arithmetic expression to multiply and then add integers\n(3*4)+5",
      "metadata": {
        "trusted": true
      },
      "outputs": [
        {
          "execution_count": 6,
          "output_type": "execute_result",
          "data": {
            "text/plain": "17"
          },
          "metadata": {}
        }
      ],
      "execution_count": 6
    },
    {
      "id": "8b753b34-2db7-4e03-8e3a-92ccd3e83581",
      "cell_type": "code",
      "source": "#This will convert 200 minutes to hours by dividing by 60\n#X= minutes, Y=hours\nx=200\ny=x/60\nprint(y)",
      "metadata": {
        "trusted": true
      },
      "outputs": [
        {
          "name": "stdout",
          "output_type": "stream",
          "text": "3.3333333333333335\n"
        }
      ],
      "execution_count": 7
    },
    {
      "id": "fb63bc39-cb2f-47f5-a54c-5d99d01fe6d5",
      "cell_type": "markdown",
      "source": "## Author\nSeth Anderson",
      "metadata": {}
    },
    {
      "id": "4e9b3b4b-f4bf-4b92-8872-b7f75e8a3d7e",
      "cell_type": "code",
      "source": "",
      "metadata": {
        "trusted": true
      },
      "outputs": [],
      "execution_count": null
    },
    {
      "id": "c34c43f6-a5fe-4dee-bae6-17ecaf84e733",
      "cell_type": "code",
      "source": "`",
      "metadata": {
        "trusted": true
      },
      "outputs": [],
      "execution_count": null
    }
  ]
}